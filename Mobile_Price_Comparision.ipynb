{
 "cells": [
  {
   "cell_type": "code",
   "execution_count": 1,
   "metadata": {},
   "outputs": [
    {
     "name": "stdout",
     "output_type": "stream",
     "text": [
      "please enter a mobile model: iphone 7\n",
      "['27,999']\n",
      "Amazon is giving the BEST PRICE \"😃\"\n"
     ]
    },
    {
     "data": {
      "text/html": [
       "<div>\n",
       "<style scoped>\n",
       "    .dataframe tbody tr th:only-of-type {\n",
       "        vertical-align: middle;\n",
       "    }\n",
       "\n",
       "    .dataframe tbody tr th {\n",
       "        vertical-align: top;\n",
       "    }\n",
       "\n",
       "    .dataframe thead th {\n",
       "        text-align: right;\n",
       "    }\n",
       "</style>\n",
       "<table border=\"1\" class=\"dataframe\">\n",
       "  <thead>\n",
       "    <tr style=\"text-align: right;\">\n",
       "      <th></th>\n",
       "      <th>Model Name</th>\n",
       "      <th>Flipkart price</th>\n",
       "      <th>Amazon price</th>\n",
       "      <th>Savings</th>\n",
       "    </tr>\n",
       "  </thead>\n",
       "  <tbody>\n",
       "    <tr>\n",
       "      <th>0</th>\n",
       "      <td>iphone 7</td>\n",
       "      <td>24999</td>\n",
       "      <td>27999</td>\n",
       "      <td>3000.0</td>\n",
       "    </tr>\n",
       "  </tbody>\n",
       "</table>\n",
       "</div>"
      ],
      "text/plain": [
       "  Model Name Flipkart price Amazon price  Savings\n",
       "0   iphone 7          24999        27999   3000.0"
      ]
     },
     "execution_count": 1,
     "metadata": {},
     "output_type": "execute_result"
    }
   ],
   "source": [
    "# importing required library\n",
    "from selenium import webdriver\n",
    "import bs4,requests\n",
    "import pandas as pd\n",
    "#import numpy as np\n",
    "mobile_name=input('please enter a mobile model: ')\n",
    "driver = webdriver.Chrome(executable_path='/Users/kinchal/Downloads/chromedriver')\n",
    "#scraping flipkart\n",
    "driver.get('https://www.flipkart.com/');\n",
    "search_box = driver.find_element_by_name('q')\n",
    "search_box.send_keys(mobile_name)\n",
    "search_box.submit()\n",
    "mobile_url=driver.current_url\n",
    "data=requests.get(mobile_url)\n",
    "page_soup=bs4.BeautifulSoup(data.text,'html.parser')\n",
    "containers = page_soup.findAll('div', {'class': '_1UoZlX'})\n",
    "l = len(containers)\n",
    "price = page_soup.findAll('div', {'class': '_1vC4OE _2rQ-NK'})\n",
    "fl_price=[]\n",
    "for i in range(1):\n",
    "    pr1=(price[i].text)\n",
    "    fl_price.append(pr1)\n",
    "fl_price1=[]\n",
    "for i in fl_price:\n",
    "    fl_price1.append(i.replace(\"₹\",\"\"))\n",
    "# print(fl_price1)\n",
    "#scraping amazon\n",
    "driver.get('https://www.amazon.in/');\n",
    "search_box = driver.find_element_by_name('field-keywords')\n",
    "search_box.send_keys(mobile_name)\n",
    "search_box.submit()\n",
    "mobile_url=driver.current_url\n",
    "data=requests.get(mobile_url)\n",
    "page_soup=bs4.BeautifulSoup(data.text,'html.parser')\n",
    "containers =  driver.find_elements_by_class_name(\"sg-col-inner\")\n",
    "l = len(containers)\n",
    "price = driver.find_elements_by_class_name(\"a-price-whole\")\n",
    "am_price=[]\n",
    "for i in range(1):    \n",
    "    pr=(price[i+0].text)\n",
    "    am_price.append(pr)\n",
    "Al_price1=[]\n",
    "for i in am_price:\n",
    "    Al_price1.append(i.replace(\"₹|,\",\"\"))\n",
    "print(Al_price1)\n",
    "if Al_price1 == []:\n",
    "    Al_price1 = ['NA']\n",
    "#putting scraped data in DATAFRAME\n",
    "d = {'Model Name': [mobile_name],'Flipkart price':fl_price1, 'Amazon price':Al_price1}\n",
    "df = pd.DataFrame(data=d)\n",
    "df['Flipkart price'] = df['Flipkart price'].str.replace(',', '')\n",
    "df['Amazon price'] = df['Amazon price'].str.replace(',', '')    \n",
    "if df['Flipkart price'].str.isdigit().all() and df['Amazon price'].str.isdigit().all():\n",
    "    df['Savings'] = df['Flipkart price'].astype(float) - df['Amazon price'].astype(float) \n",
    "    df['Savings'] =df['Savings'].abs()\n",
    "    f = df['Flipkart price'].astype(float)\n",
    "    a = df['Amazon price'].astype(float)\n",
    "    #comparing and printing the desired output\n",
    "    if f.all()< a.all():\n",
    "        print ('Flipkart is giving the BEST PRICE \"\\U0001F603\"')\n",
    "    else:\n",
    "        print ('Amazon is giving the BEST PRICE \"\\U0001F603\"')\n",
    "else:\n",
    "    df['Savings'] = 'Not available on any one site'\n",
    "    \n",
    "df"
   ]
  },
  {
   "cell_type": "code",
   "execution_count": 2,
   "metadata": {},
   "outputs": [],
   "source": [
    "# creating csv file\n",
    "k= df.to_csv('Comparision_Data.csv', index =False)\n"
   ]
  },
  {
   "cell_type": "code",
   "execution_count": null,
   "metadata": {},
   "outputs": [],
   "source": []
  }
 ],
 "metadata": {
  "kernelspec": {
   "display_name": "Python 3",
   "language": "python",
   "name": "python3"
  },
  "language_info": {
   "codemirror_mode": {
    "name": "ipython",
    "version": 3
   },
   "file_extension": ".py",
   "mimetype": "text/x-python",
   "name": "python",
   "nbconvert_exporter": "python",
   "pygments_lexer": "ipython3",
   "version": "3.7.3"
  }
 },
 "nbformat": 4,
 "nbformat_minor": 2
}
